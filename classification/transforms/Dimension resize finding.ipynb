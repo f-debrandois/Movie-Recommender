{
 "cells": [
  {
   "cell_type": "code",
   "execution_count": 17,
   "metadata": {},
   "outputs": [],
   "source": [
    "import torch\n",
    "import torchvision\n",
    "import pandas as pd\n",
    "import random\n",
    "from torchvision import transforms\n",
    "from PIL import Image\n",
    "\n",
    "tot_loader = torchvision.datasets.ImageFolder('../../Dataset/MovieGenre/content/sorted_movie_posters_paligema')\n",
    "\n",
    "ind_candidate_x = 0\n",
    "candidat_x = tot_loader[0][0].size[0]\n",
    "ind_candidate_y = 0\n",
    "candidat_y = tot_loader[0][0].size[1]\n",
    "for i in range(len(tot_loader)):\n",
    "    if candidat_x > tot_loader[i][0].size[0]:\n",
    "        ind_candidate_x = i\n",
    "        candidat_x = tot_loader[i][0].size[0]\n",
    "    if candidat_y > tot_loader[i][0].size[1]:\n",
    "        ind_candidate_y = i\n",
    "        candidat_y = tot_loader[i][0].size[1]\n",
    "\n",
    "if candidat_x > candidat_y:\n",
    "    min_size = candidat_y\n",
    "else:\n",
    "    min_size = candidat_x"
   ]
  },
  {
   "cell_type": "code",
   "execution_count": 18,
   "metadata": {},
   "outputs": [
    {
     "data": {
      "text/plain": [
       "185"
      ]
     },
     "execution_count": 18,
     "metadata": {},
     "output_type": "execute_result"
    }
   ],
   "source": [
    "min_size"
   ]
  },
  {
   "cell_type": "code",
   "execution_count": null,
   "metadata": {},
   "outputs": [],
   "source": [
    "# AU CAS OÙ LA TAILLE N'A PAS CORRECTEMENT ÉTÉ TROUVÉE LORS D'UNE EXÉCUTION PRÉCÉDENTE\n",
    "if min_size < 128:\n",
    "    min_size = 128"
   ]
  }
 ],
 "metadata": {
  "kernelspec": {
   "display_name": "env_pytorch",
   "language": "python",
   "name": "env_pytorch"
  },
  "language_info": {
   "codemirror_mode": {
    "name": "ipython",
    "version": 3
   },
   "file_extension": ".py",
   "mimetype": "text/x-python",
   "name": "python",
   "nbconvert_exporter": "python",
   "pygments_lexer": "ipython3",
   "version": "3.13.2"
  }
 },
 "nbformat": 4,
 "nbformat_minor": 2
}
