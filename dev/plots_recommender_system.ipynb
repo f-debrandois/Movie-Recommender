{
 "cells": [
  {
   "cell_type": "code",
   "execution_count": 1,
   "id": "a645c63c",
   "metadata": {},
   "outputs": [
    {
     "name": "stderr",
     "output_type": "stream",
     "text": [
      "/tmp/ipykernel_203704/1995972593.py:1: DeprecationWarning: \n",
      "Pyarrow will become a required dependency of pandas in the next major release of pandas (pandas 3.0),\n",
      "(to allow more performant data types, such as the Arrow string type, and better interoperability with other libraries)\n",
      "but was not found to be installed on your system.\n",
      "If this would cause problems for you,\n",
      "please provide us feedback at https://github.com/pandas-dev/pandas/issues/54466\n",
      "        \n",
      "  import pandas as pd\n",
      "/tmp/ipykernel_203704/1995972593.py:16: DeprecationWarning: load_dataset is deprecated and will be removed in a future version.\n",
      "  df_data = kagglehub.load_dataset(\n",
      "/home/n7student/miniforge3/envs/opti_sto/lib/python3.11/site-packages/kagglehub/pandas_datasets.py:91: DtypeWarning: Columns (10) have mixed types. Specify dtype option on import or set low_memory=False.\n",
      "  result = read_function(\n",
      "/home/n7student/miniforge3/envs/opti_sto/lib/python3.11/site-packages/torch/cuda/__init__.py:138: UserWarning: CUDA initialization: CUDA unknown error - this may be due to an incorrectly set up environment, e.g. changing env variable CUDA_VISIBLE_DEVICES after program start. Setting the available devices to be zero. (Triggered internally at /opt/conda/conda-bld/pytorch_1702400430266/work/c10/cuda/CUDAFunctions.cpp:108.)\n",
      "  return torch._C._cuda_getDeviceCount() > 0\n"
     ]
    }
   ],
   "source": [
    "import pandas as pd\n",
    "\n",
    "from sklearn.model_selection import train_test_split\n",
    "from sklearn.feature_extraction.text import CountVectorizer\n",
    "\n",
    "import torch\n",
    "\n",
    "from tqdm import tqdm\n",
    "from annoy import AnnoyIndex\n",
    "\n",
    "from kagglehub import KaggleDatasetAdapter\n",
    "import kagglehub\n",
    "import joblib\n",
    "\n",
    "file_path = \"movies_metadata.csv\"\n",
    "\n",
    "df_data = kagglehub.load_dataset(\n",
    "  KaggleDatasetAdapter.PANDAS,\n",
    "  \"rounakbanik/the-movies-dataset\",\n",
    "  file_path,\n",
    ")\n",
    "\n",
    "\n",
    "device = torch.device(\"cuda\" if torch.cuda.is_available() else \"cpu\")\n",
    "\n"
   ]
  },
  {
   "cell_type": "code",
   "execution_count": 2,
   "id": "01d8d503",
   "metadata": {},
   "outputs": [
    {
     "name": "stdout",
     "output_type": "stream",
     "text": [
      "Overview NaN : 954\n"
     ]
    }
   ],
   "source": [
    "print(\"Overview NaN :\", (df_data.overview.isna().sum()))\n",
    "df_data = df_data.dropna(subset=\"overview\")\n",
    "df_data = df_data[[\"overview\", \"title\"]]\n",
    "\n",
    "#split data\n",
    "df_train, df_test = train_test_split(df_data, test_size=0.5, random_state=42)"
   ]
  },
  {
   "cell_type": "markdown",
   "id": "48f8bf4c",
   "metadata": {},
   "source": [
    "## Bag of Words"
   ]
  },
  {
   "cell_type": "code",
   "execution_count": 3,
   "id": "f19012df",
   "metadata": {},
   "outputs": [
    {
     "data": {
      "text/plain": [
       "53363"
      ]
     },
     "execution_count": 3,
     "metadata": {},
     "output_type": "execute_result"
    }
   ],
   "source": [
    "vectorizer = CountVectorizer(stop_words='english')\n",
    "train_count_matrix = vectorizer.fit_transform(df_train.overview)\n",
    "\n",
    "len(vectorizer.vocabulary_)"
   ]
  },
  {
   "cell_type": "code",
   "execution_count": 4,
   "id": "53c44cc6",
   "metadata": {},
   "outputs": [
    {
     "data": {
      "text/plain": [
       "['vectorizer.pkl']"
      ]
     },
     "execution_count": 4,
     "metadata": {},
     "output_type": "execute_result"
    }
   ],
   "source": [
    "# save vectorizer\n",
    "joblib.dump(vectorizer, \"vectorizer.pkl\")"
   ]
  },
  {
   "cell_type": "code",
   "execution_count": 5,
   "id": "0b942228",
   "metadata": {},
   "outputs": [
    {
     "data": {
      "text/plain": [
       "(22256, 53363)"
      ]
     },
     "execution_count": 5,
     "metadata": {},
     "output_type": "execute_result"
    }
   ],
   "source": [
    "train_count_matrix.shape"
   ]
  },
  {
   "cell_type": "markdown",
   "id": "bb4fa537",
   "metadata": {},
   "source": [
    "## Annoy"
   ]
  },
  {
   "cell_type": "code",
   "execution_count": 6,
   "id": "2c87a10d",
   "metadata": {},
   "outputs": [
    {
     "name": "stderr",
     "output_type": "stream",
     "text": [
      "100%|██████████| 22256/22256 [01:02<00:00, 357.50it/s]\n"
     ]
    },
    {
     "data": {
      "text/plain": [
       "True"
      ]
     },
     "execution_count": 6,
     "metadata": {},
     "output_type": "execute_result"
    }
   ],
   "source": [
    "#annoy\n",
    "annoy_index = AnnoyIndex(len(vectorizer.vocabulary_), 'angular')\n",
    "\n",
    "for i in tqdm(range(train_count_matrix.shape[0])):\n",
    "    annoy_index.add_item(i, train_count_matrix[i].toarray().flatten())\n",
    "\n",
    "annoy_index.build(10)"
   ]
  },
  {
   "cell_type": "code",
   "execution_count": 7,
   "id": "d0ccb8b5",
   "metadata": {},
   "outputs": [],
   "source": [
    "def search(query_vector, k=5):\n",
    "    indices = annoy_index.get_nns_by_vector(query_vector, k)\n",
    "    titles = df_train['title'].iloc[indices]  \n",
    "    return titles\n",
    "\n",
    "index = 10\n",
    "query_vector = train_count_matrix.toarray()[index]\n",
    "result = search(query_vector)"
   ]
  },
  {
   "cell_type": "code",
   "execution_count": 8,
   "id": "9648808d",
   "metadata": {},
   "outputs": [
    {
     "data": {
      "text/plain": [
       "'The Aristocats'"
      ]
     },
     "execution_count": 8,
     "metadata": {},
     "output_type": "execute_result"
    }
   ],
   "source": [
    "df_train.iloc[index][\"title\"]"
   ]
  },
  {
   "cell_type": "code",
   "execution_count": 9,
   "id": "d0c3cd1b",
   "metadata": {},
   "outputs": [
    {
     "data": {
      "text/plain": [
       "608      The Aristocats\n",
       "27572     The Black Cat\n",
       "26174      Swedenhielms\n",
       "19651           Transit\n",
       "40065     You Lucky Dog\n",
       "Name: title, dtype: object"
      ]
     },
     "execution_count": 9,
     "metadata": {},
     "output_type": "execute_result"
    }
   ],
   "source": [
    "result"
   ]
  },
  {
   "cell_type": "code",
   "execution_count": 11,
   "id": "a62f88ac",
   "metadata": {},
   "outputs": [],
   "source": [
    "annoy_index.save('annoy_index_bag_of_words.ann')\n",
    "# save the dataframe with name of movies only\n",
    "df_data[['title']].to_csv('plot_titles.csv', index=False)"
   ]
  },
  {
   "cell_type": "code",
   "execution_count": null,
   "id": "f7f7ac6a",
   "metadata": {},
   "outputs": [],
   "source": [
    "# load the index\n",
    "annoy_index = AnnoyIndex(len(vectorizer.vocabulary_), 'angular')"
   ]
  },
  {
   "cell_type": "markdown",
   "id": "0f33f14f",
   "metadata": {},
   "source": [
    "## NEURAL NETWORK"
   ]
  },
  {
   "cell_type": "markdown",
   "id": "cf4f2963",
   "metadata": {},
   "source": [
    "## Annoy"
   ]
  }
 ],
 "metadata": {
  "kernelspec": {
   "display_name": "base",
   "language": "python",
   "name": "python3"
  },
  "language_info": {
   "codemirror_mode": {
    "name": "ipython",
    "version": 3
   },
   "file_extension": ".py",
   "mimetype": "text/x-python",
   "name": "python",
   "nbconvert_exporter": "python",
   "pygments_lexer": "ipython3",
   "version": "3.11.6"
  }
 },
 "nbformat": 4,
 "nbformat_minor": 5
}
