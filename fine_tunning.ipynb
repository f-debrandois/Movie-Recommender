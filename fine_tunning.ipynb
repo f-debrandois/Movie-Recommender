{
 "cells": [
  {
   "cell_type": "code",
   "execution_count": 2,
   "metadata": {},
   "outputs": [],
   "source": [
    "import sys, os\n",
    "\n",
    "import numpy as np\n",
    "import matplotlib.pyplot as plt\n",
    "import pandas as pd\n",
    "from sklearn.model_selection import train_test_split\n",
    "\n",
    "\n",
    "\n",
    "import torch\n",
    "from torch.utils.data import Dataset, DataLoader\n",
    "import torchvision.transforms as transforms\n",
    "import torchvision.models as models\n",
    "from torchvision import datasets\n",
    "from PIL import Image\n",
    "from tqdm import tqdm\n",
    "\n",
    "device = torch.device(\"cuda\" if torch.cuda.is_available() else \"cpu\")\n",
    "\n",
    "main_repo = os.getcwd()\n",
    "data_path = os.path.join(main_repo, 'MovieGenre', 'content', 'sorted_movie_posters_paligema')\n",
    "registers = os.listdir(data_path)"
   ]
  },
  {
   "cell_type": "code",
   "execution_count": 3,
   "metadata": {},
   "outputs": [],
   "source": [
    "class CustomImageDataset(Dataset):\n",
    "    def __init__(self, labels, img_path, transform=True):\n",
    "\n",
    "        self.labels = labels\n",
    "        self.img_path = img_path\n",
    "        self.transform = transform\n",
    "\n",
    "    def __len__(self):\n",
    "        return len(self.img_path)\n",
    "\n",
    "    def __getitem__(self, idx):\n",
    "\n",
    "        img_path = self.img_path[idx]\n",
    "        image = Image.open(img_path)\n",
    "\n",
    "        label = self.labels[idx]\n",
    "\n",
    "        if self.transform:\n",
    "            image = self.transform(image)\n",
    "\n",
    "        return image, img_path, label"
   ]
  },
  {
   "cell_type": "code",
   "execution_count": 4,
   "metadata": {},
   "outputs": [],
   "source": [
    "train_paths, test_paths = [], []\n",
    "train_labels, test_labels = [], []\n",
    "\n",
    "for (i, register) in enumerate(registers):\n",
    "\n",
    "    register_path = os.path.join(data_path, register)\n",
    "    register_images = [os.path.join(register_path, file) for file in os.listdir(register_path)]\n",
    "    train_img, test_img = train_test_split(register_images, test_size=0.2)\n",
    "    \n",
    "    train_paths += train_img\n",
    "    test_paths += test_img\n",
    "    train_labels += [i] * len(train_img)\n",
    "    test_labels += [i] * len(test_img)"
   ]
  },
  {
   "cell_type": "code",
   "execution_count": 5,
   "metadata": {},
   "outputs": [
    {
     "name": "stdout",
     "output_type": "stream",
     "text": [
      "Train size 4297 Test size 1078\n"
     ]
    }
   ],
   "source": [
    "initial_transform = transforms.Compose([\n",
    "    transforms.Resize((224, 224)),\n",
    "    transforms.ToTensor(),\n",
    "    transforms.Normalize((0.5,), (0.5,))\n",
    "])\n",
    "\n",
    "\n",
    "train_dataset = CustomImageDataset(labels=train_labels, img_path=train_paths, transform=initial_transform)\n",
    "test_dataset = CustomImageDataset(labels=test_labels, img_path=test_paths, transform=initial_transform)\n",
    "\n",
    "train_loader = DataLoader(train_dataset, batch_size=64, shuffle=True)\n",
    "test_loader = DataLoader(test_dataset, batch_size=64, shuffle=False)\n",
    "\n",
    "print(\"Train size\", len(train_dataset), \"Test size\", len(test_dataset))"
   ]
  },
  {
   "cell_type": "code",
   "execution_count": 6,
   "metadata": {},
   "outputs": [
    {
     "name": "stderr",
     "output_type": "stream",
     "text": [
      "/home/baba/miniforge3/lib/python3.10/site-packages/torchvision/models/_utils.py:208: UserWarning: The parameter 'pretrained' is deprecated since 0.13 and may be removed in the future, please use 'weights' instead.\n",
      "  warnings.warn(\n",
      "/home/baba/miniforge3/lib/python3.10/site-packages/torchvision/models/_utils.py:223: UserWarning: Arguments other than a weight enum or `None` for 'weights' are deprecated since 0.13 and may be removed in the future. The current behavior is equivalent to passing `weights=ResNet18_Weights.IMAGENET1K_V1`. You can also use `weights=ResNet18_Weights.DEFAULT` to get the most up-to-date weights.\n",
      "  warnings.warn(msg)\n"
     ]
    }
   ],
   "source": [
    "model = models.resnet18(pretrained=True)\n",
    "\n",
    "for param in model.parameters():\n",
    "    param.requires_grad = False\n",
    "\n",
    "#for param in model.layer4.parameters():\n",
    "#    param.requires_grad = True\n",
    "\n",
    "num_classes = len(registers)\n",
    "model.fc = torch.nn.Linear(in_features=512, out_features=num_classes)"
   ]
  },
  {
   "cell_type": "code",
   "execution_count": 7,
   "metadata": {},
   "outputs": [],
   "source": [
    "# Training function\n",
    "def train(model, criterion, optimizer, train_loader):\n",
    "    model.to(device)\n",
    "    model.train()\n",
    "    \n",
    "    train_losses = []\n",
    "    train_acc = []\n",
    "\n",
    "    for inputs, _, targets in tqdm(train_loader, desc=\"Training\", unit=\"batch\"):\n",
    "        inputs, targets = inputs.to(device), targets.to(device)\n",
    "        \n",
    "        # Forward pass\n",
    "        outputs = model(inputs)\n",
    "        loss = criterion(outputs, targets)\n",
    "        train_losses.append(loss.item())\n",
    "        \n",
    "        # Compute accuracy\n",
    "        _, preds = torch.max(outputs, 1)\n",
    "        correct = (preds == targets).sum().item()\n",
    "        acc = correct / targets.size(0)\n",
    "        train_acc.append(acc)\n",
    "        \n",
    "        # Backward pass\n",
    "        optimizer.zero_grad()\n",
    "        loss.backward()\n",
    "        optimizer.step()\n",
    "        \n",
    "    return np.mean(train_losses), np.mean(train_acc)\n",
    "\n",
    "\n",
    "# Test function\n",
    "def test(model, criterion, test_loader):\n",
    "    model.eval()\n",
    "    \n",
    "    test_losses = []\n",
    "    test_acc = []\n",
    "    \n",
    "    with torch.no_grad():\n",
    "        for inputs, _, targets in tqdm(test_loader, desc=\"Testing\", unit=\"batch\"):\n",
    "            inputs, targets = inputs.to(device), targets.to(device)\n",
    "            \n",
    "            # Forward pass\n",
    "            outputs = model(inputs)\n",
    "            loss = criterion(outputs, targets)\n",
    "            test_losses.append(loss.item())\n",
    "            \n",
    "            # Compute accuracy\n",
    "            _, preds = torch.max(outputs, 1)\n",
    "            correct = (preds == targets).sum().item()\n",
    "            acc = correct / targets.size(0)\n",
    "            test_acc.append(acc)\n",
    "            \n",
    "    return np.mean(test_losses), np.mean(test_acc)"
   ]
  },
  {
   "cell_type": "code",
   "execution_count": 8,
   "metadata": {},
   "outputs": [
    {
     "name": "stdout",
     "output_type": "stream",
     "text": [
      "Epoch 1 of 5\n"
     ]
    },
    {
     "name": "stderr",
     "output_type": "stream",
     "text": [
      "Training: 100%|██████████| 68/68 [00:11<00:00,  5.76batch/s]\n",
      "Testing: 100%|██████████| 17/17 [00:02<00:00,  6.27batch/s]\n"
     ]
    },
    {
     "name": "stdout",
     "output_type": "stream",
     "text": [
      "-----------------------------------\n",
      "Train loss: 1.9634 - Test loss: 1.7910\n",
      "Test accuracy: 39.50%\n",
      "-----------------------------------\n",
      "\n",
      "Epoch 2 of 5\n"
     ]
    },
    {
     "name": "stderr",
     "output_type": "stream",
     "text": [
      "Training: 100%|██████████| 68/68 [00:11<00:00,  5.91batch/s]\n",
      "Testing: 100%|██████████| 17/17 [00:02<00:00,  5.81batch/s]\n"
     ]
    },
    {
     "name": "stdout",
     "output_type": "stream",
     "text": [
      "-----------------------------------\n",
      "Train loss: 1.6831 - Test loss: 1.6666\n",
      "Test accuracy: 42.10%\n",
      "-----------------------------------\n",
      "\n",
      "Epoch 3 of 5\n"
     ]
    },
    {
     "name": "stderr",
     "output_type": "stream",
     "text": [
      "Training: 100%|██████████| 68/68 [00:11<00:00,  5.76batch/s]\n",
      "Testing: 100%|██████████| 17/17 [00:02<00:00,  6.06batch/s]\n"
     ]
    },
    {
     "name": "stdout",
     "output_type": "stream",
     "text": [
      "-----------------------------------\n",
      "Train loss: 1.5952 - Test loss: 1.6402\n",
      "Test accuracy: 43.66%\n",
      "-----------------------------------\n",
      "\n",
      "Epoch 4 of 5\n"
     ]
    },
    {
     "name": "stderr",
     "output_type": "stream",
     "text": [
      "Training: 100%|██████████| 68/68 [00:11<00:00,  5.91batch/s]\n",
      "Testing: 100%|██████████| 17/17 [00:03<00:00,  5.59batch/s]\n"
     ]
    },
    {
     "name": "stdout",
     "output_type": "stream",
     "text": [
      "-----------------------------------\n",
      "Train loss: 1.5420 - Test loss: 1.6100\n",
      "Test accuracy: 44.32%\n",
      "-----------------------------------\n",
      "\n",
      "Epoch 5 of 5\n"
     ]
    },
    {
     "name": "stderr",
     "output_type": "stream",
     "text": [
      "Training: 100%|██████████| 68/68 [00:11<00:00,  5.80batch/s]\n",
      "Testing: 100%|██████████| 17/17 [00:02<00:00,  5.86batch/s]\n"
     ]
    },
    {
     "name": "stdout",
     "output_type": "stream",
     "text": [
      "-----------------------------------\n",
      "Train loss: 1.4954 - Test loss: 1.6169\n",
      "Test accuracy: 46.24%\n",
      "-----------------------------------\n",
      "\n"
     ]
    },
    {
     "data": {
      "image/png": "[encoded data removed]",
      "text/plain": [
       "<Figure size 1000x700 with 1 Axes>"
      ]
     },
     "metadata": {},
     "output_type": "display_data"
    }
   ],
   "source": [
    "# Define loss and optimizer\n",
    "criterion = torch.nn.CrossEntropyLoss()\n",
    "optimizer = torch.optim.Adam(model.parameters(), lr=1e-3)\n",
    "num_epochs = 5\n",
    "\n",
    "# Training loop\n",
    "train_losses, test_losses = [], []\n",
    "train_acc, test_acc = [], []\n",
    "\n",
    "for epoch in range(num_epochs):\n",
    "    print(f\"Epoch {epoch+1} of {num_epochs}\")\n",
    "    train_loss, train_accuracy = train(model, criterion, optimizer, train_loader)\n",
    "    test_loss, test_accuracy = test(model, criterion, test_loader)\n",
    "    print(\"-----------------------------------\")\n",
    "    print(f\"Train loss: {train_loss:.4f} - Test loss: {test_loss:.4f}\")\n",
    "    print(f\"Test accuracy: {test_accuracy*100:.2f}%\")\n",
    "    train_losses.append(train_loss)\n",
    "    train_acc.append(train_accuracy)\n",
    "    test_losses.append(test_loss)\n",
    "    test_acc.append(test_accuracy)\n",
    "    print(\"-----------------------------------\")\n",
    "    print()\n",
    "   \n",
    "torch.save(model.state_dict(), \"model\")\n",
    "\n",
    "# Plot loss\n",
    "plt.figure(figsize=(10, 7))\n",
    "plt.plot(train_losses, label='Train Loss')\n",
    "plt.plot(test_losses, label='Test Loss')\n",
    "plt.xlabel('Epoch')\n",
    "plt.ylabel('Loss')\n",
    "plt.legend()\n",
    "plt.show()"
   ]
  },
  {
   "cell_type": "code",
   "execution_count": 9,
   "metadata": {},
   "outputs": [],
   "source": [
    "for param in model.parameters():\n",
    "    param.requires_grad = True"
   ]
  },
  {
   "cell_type": "code",
   "execution_count": 10,
   "metadata": {},
   "outputs": [
    {
     "name": "stdout",
     "output_type": "stream",
     "text": [
      "Epoch 1 of 5\n"
     ]
    },
    {
     "name": "stderr",
     "output_type": "stream",
     "text": [
      "Training: 100%|██████████| 68/68 [00:19<00:00,  3.56batch/s]\n",
      "Testing: 100%|██████████| 17/17 [00:02<00:00,  5.96batch/s]\n"
     ]
    },
    {
     "name": "stdout",
     "output_type": "stream",
     "text": [
      "-----------------------------------\n",
      "Train loss: 1.4506 - Test loss: 1.5708\n",
      "Test accuracy: 46.80%\n",
      "-----------------------------------\n",
      "\n",
      "Epoch 2 of 5\n"
     ]
    },
    {
     "name": "stderr",
     "output_type": "stream",
     "text": [
      "Training: 100%|██████████| 68/68 [00:19<00:00,  3.53batch/s]\n",
      "Testing: 100%|██████████| 17/17 [00:02<00:00,  5.81batch/s]\n"
     ]
    },
    {
     "name": "stdout",
     "output_type": "stream",
     "text": [
      "-----------------------------------\n",
      "Train loss: 1.2897 - Test loss: 1.5475\n",
      "Test accuracy: 46.91%\n",
      "-----------------------------------\n",
      "\n",
      "Epoch 3 of 5\n"
     ]
    },
    {
     "name": "stderr",
     "output_type": "stream",
     "text": [
      "Training: 100%|██████████| 68/68 [00:19<00:00,  3.52batch/s]\n",
      "Testing: 100%|██████████| 17/17 [00:02<00:00,  5.92batch/s]\n"
     ]
    },
    {
     "name": "stdout",
     "output_type": "stream",
     "text": [
      "-----------------------------------\n",
      "Train loss: 1.1896 - Test loss: 1.5444\n",
      "Test accuracy: 46.36%\n",
      "-----------------------------------\n",
      "\n",
      "Epoch 4 of 5\n"
     ]
    },
    {
     "name": "stderr",
     "output_type": "stream",
     "text": [
      "Training: 100%|██████████| 68/68 [00:19<00:00,  3.51batch/s]\n",
      "Testing: 100%|██████████| 17/17 [00:02<00:00,  5.91batch/s]\n"
     ]
    },
    {
     "name": "stdout",
     "output_type": "stream",
     "text": [
      "-----------------------------------\n",
      "Train loss: 1.0776 - Test loss: 1.5371\n",
      "Test accuracy: 46.84%\n",
      "-----------------------------------\n",
      "\n",
      "Epoch 5 of 5\n"
     ]
    },
    {
     "name": "stderr",
     "output_type": "stream",
     "text": [
      "Training: 100%|██████████| 68/68 [00:19<00:00,  3.55batch/s]\n",
      "Testing: 100%|██████████| 17/17 [00:03<00:00,  5.36batch/s]\n"
     ]
    },
    {
     "name": "stdout",
     "output_type": "stream",
     "text": [
      "-----------------------------------\n",
      "Train loss: 0.9817 - Test loss: 1.5372\n",
      "Test accuracy: 46.75%\n",
      "-----------------------------------\n",
      "\n"
     ]
    },
    {
     "data": {
      "image/png": "[encoded data removed]",
      "text/plain": [
       "<Figure size 1000x700 with 1 Axes>"
      ]
     },
     "metadata": {},
     "output_type": "display_data"
    }
   ],
   "source": [
    "# Define loss and optimizer\n",
    "criterion = torch.nn.CrossEntropyLoss()\n",
    "optimizer = torch.optim.Adam(model.parameters(), lr=1e-5)\n",
    "num_epochs = 5\n",
    "\n",
    "# Training loop\n",
    "train_losses, test_losses = [], []\n",
    "train_acc, test_acc = [], []\n",
    "\n",
    "for epoch in range(num_epochs):\n",
    "    print(f\"Epoch {epoch+1} of {num_epochs}\")\n",
    "    train_loss, train_accuracy = train(model, criterion, optimizer, train_loader)\n",
    "    test_loss, test_accuracy = test(model, criterion, test_loader)\n",
    "    print(\"-----------------------------------\")\n",
    "    print(f\"Train loss: {train_loss:.4f} - Test loss: {test_loss:.4f}\")\n",
    "    print(f\"Test accuracy: {test_accuracy*100:.2f}%\")\n",
    "    train_losses.append(train_loss)\n",
    "    train_acc.append(train_accuracy)\n",
    "    test_losses.append(test_loss)\n",
    "    test_acc.append(test_accuracy)\n",
    "    print(\"-----------------------------------\")\n",
    "    print()\n",
    "   \n",
    "torch.save(model.state_dict(), \"model\")\n",
    "\n",
    "# Plot loss\n",
    "plt.figure(figsize=(10, 7))\n",
    "plt.plot(train_losses, label='Train Loss')\n",
    "plt.plot(test_losses, label='Test Loss')\n",
    "plt.xlabel('Epoch')\n",
    "plt.ylabel('Loss')\n",
    "plt.legend()\n",
    "plt.show()"
   ]
  },
  {
   "cell_type": "code",
   "execution_count": 14,
   "metadata": {},
   "outputs": [],
   "source": [
    "torch.save(model.state_dict(), main_repo + '/model.pth')"
   ]
  }
 ],
 "metadata": {
  "kernelspec": {
   "display_name": "base",
   "language": "python",
   "name": "python3"
  },
  "language_info": {
   "codemirror_mode": {
    "name": "ipython",
    "version": 3
   },
   "file_extension": ".py",
   "mimetype": "text/x-python",
   "name": "python",
   "nbconvert_exporter": "python",
   "pygments_lexer": "ipython3",
   "version": "3.10.13"
  }
 },
 "nbformat": 4,
 "nbformat_minor": 2
}
