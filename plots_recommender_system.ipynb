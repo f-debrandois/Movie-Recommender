{
 "cells": [
  {
   "cell_type": "code",
   "execution_count": 30,
   "id": "a645c63c",
   "metadata": {},
   "outputs": [],
   "source": [
    "import sys, os\n",
    "\n",
    "import numpy as np\n",
    "import pandas as pd\n",
    "import matplotlib.pyplot as plt\n",
    "import matplotlib.image as mpimg\n",
    "\n",
    "\n",
    "from sklearn.model_selection import train_test_split\n",
    "from sklearn.feature_extraction.text import TfidfVectorizer, CountVectorizer\n",
    "\n",
    "import torch\n",
    "from torch.utils.data import Dataset, DataLoader\n",
    "import torchvision.transforms as transforms\n",
    "import torchvision.models as models\n",
    "from torchvision import datasets\n",
    "\n",
    "from PIL import Image\n",
    "from tqdm import tqdm\n",
    "from annoy import AnnoyIndex\n",
    "\n",
    "\n",
    "device = torch.device(\"cuda\" if torch.cuda.is_available() else \"cpu\")\n",
    "\n",
    "main_repo = '/home/baba/Bureau/ProjetPoster/'\n",
    "dev_repo = os.path.join(os.getcwd(), \"dev\")\n",
    "sys.path.append(dev_repo)\n",
    "\n",
    "from loader import *"
   ]
  },
  {
   "cell_type": "code",
   "execution_count": 31,
   "id": "01d8d503",
   "metadata": {},
   "outputs": [
    {
     "name": "stdout",
     "output_type": "stream",
     "text": [
      "Overview NaN : 954\n"
     ]
    },
    {
     "name": "stderr",
     "output_type": "stream",
     "text": [
      "/tmp/ipykernel_5255/2877568664.py:2: DtypeWarning: Columns (10) have mixed types. Specify dtype option on import or set low_memory=False.\n",
      "  df_data = pd.read_csv(main_repo + \"movies_metadata.csv\")\n"
     ]
    }
   ],
   "source": [
    "#generate data\n",
    "df_data = pd.read_csv(main_repo + \"movies_metadata.csv\")\n",
    "\n",
    "print(\"Overview NaN :\", (df_data.overview.isna().sum()))\n",
    "df_data = df_data.dropna(subset=\"overview\")\n",
    "df_data = df_data[[\"overview\", \"title\"]]\n",
    "\n",
    "#split data\n",
    "df_train, df_test = train_test_split(df_data, test_size=0.5, random_state=42)"
   ]
  },
  {
   "cell_type": "markdown",
   "id": "48f8bf4c",
   "metadata": {},
   "source": [
    "## Bag of Words"
   ]
  },
  {
   "cell_type": "code",
   "execution_count": 32,
   "id": "f19012df",
   "metadata": {},
   "outputs": [
    {
     "data": {
      "text/plain": [
       "53363"
      ]
     },
     "execution_count": 32,
     "metadata": {},
     "output_type": "execute_result"
    }
   ],
   "source": [
    "vectorizer = CountVectorizer(stop_words='english')\n",
    "train_count_matrix = vectorizer.fit_transform(df_train.overview)\n",
    "\n",
    "len(vectorizer.vocabulary_)"
   ]
  },
  {
   "cell_type": "code",
   "execution_count": 33,
   "id": "0b942228",
   "metadata": {},
   "outputs": [
    {
     "data": {
      "text/plain": [
       "(22256, 53363)"
      ]
     },
     "execution_count": 33,
     "metadata": {},
     "output_type": "execute_result"
    }
   ],
   "source": [
    "train_count_matrix.shape"
   ]
  },
  {
   "cell_type": "markdown",
   "id": "bb4fa537",
   "metadata": {},
   "source": [
    "## Annoy"
   ]
  },
  {
   "cell_type": "code",
   "execution_count": 34,
   "id": "2c87a10d",
   "metadata": {},
   "outputs": [
    {
     "name": "stderr",
     "output_type": "stream",
     "text": [
      "100%|██████████| 22256/22256 [00:57<00:00, 388.17it/s]\n"
     ]
    },
    {
     "data": {
      "text/plain": [
       "True"
      ]
     },
     "execution_count": 34,
     "metadata": {},
     "output_type": "execute_result"
    }
   ],
   "source": [
    "#annoy\n",
    "annoy_index = AnnoyIndex(len(vectorizer.vocabulary_), 'angular')\n",
    "\n",
    "for i in tqdm(range(train_count_matrix.shape[0])):\n",
    "    annoy_index.add_item(i, train_count_matrix[i].toarray().flatten())\n",
    "\n",
    "annoy_index.build(10)"
   ]
  },
  {
   "cell_type": "code",
   "execution_count": 53,
   "id": "d0ccb8b5",
   "metadata": {},
   "outputs": [],
   "source": [
    "def search(query_vector, k=5):\n",
    "    indices = annoy_index.get_nns_by_vector(query_vector, k)\n",
    "    titles = df_train['title'].iloc[indices]  \n",
    "    return titles\n",
    "\n",
    "index = 10\n",
    "query_vector = train_count_matrix.toarray()[index]\n",
    "result = search(query_vector)"
   ]
  },
  {
   "cell_type": "code",
   "execution_count": 54,
   "id": "9648808d",
   "metadata": {},
   "outputs": [
    {
     "data": {
      "text/plain": [
       "'The Aristocats'"
      ]
     },
     "execution_count": 54,
     "metadata": {},
     "output_type": "execute_result"
    }
   ],
   "source": [
    "df_train.iloc[index][\"title\"]"
   ]
  },
  {
   "cell_type": "code",
   "execution_count": 55,
   "id": "d0c3cd1b",
   "metadata": {},
   "outputs": [
    {
     "data": {
      "text/plain": [
       "608      The Aristocats\n",
       "27572     The Black Cat\n",
       "26174      Swedenhielms\n",
       "19651           Transit\n",
       "40065     You Lucky Dog\n",
       "Name: title, dtype: object"
      ]
     },
     "execution_count": 55,
     "metadata": {},
     "output_type": "execute_result"
    }
   ],
   "source": [
    "result"
   ]
  },
  {
   "cell_type": "markdown",
   "id": "0f33f14f",
   "metadata": {},
   "source": [
    "## NEURAL NETWORK"
   ]
  },
  {
   "cell_type": "markdown",
   "id": "cf4f2963",
   "metadata": {},
   "source": [
    "## Annoy"
   ]
  }
 ],
 "metadata": {
  "kernelspec": {
   "display_name": "base",
   "language": "python",
   "name": "python3"
  },
  "language_info": {
   "codemirror_mode": {
    "name": "ipython",
    "version": 3
   },
   "file_extension": ".py",
   "mimetype": "text/x-python",
   "name": "python",
   "nbconvert_exporter": "python",
   "pygments_lexer": "ipython3",
   "version": "3.10.13"
  }
 },
 "nbformat": 4,
 "nbformat_minor": 5
}
